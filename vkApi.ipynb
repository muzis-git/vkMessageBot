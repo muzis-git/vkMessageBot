{
 "cells": [
  {
   "cell_type": "code",
   "execution_count": 127,
   "metadata": {
    "collapsed": true
   },
   "outputs": [],
   "source": [
    "import requests\n",
    "import json"
   ]
  },
  {
   "cell_type": "markdown",
   "metadata": {},
   "source": [
    "# VK Api"
   ]
  },
  {
   "cell_type": "code",
   "execution_count": 128,
   "metadata": {
    "collapsed": false
   },
   "outputs": [],
   "source": [
    "vk_url=\"https://api.vkontakte.ru/method/\"\n",
    "uid='53129957'\n",
    "\n",
    "resp = requests.post(vk_url+'friends.get',\n",
    "                'user_id=%s&fields=uid,first_name,last_name,photo' % uid)\n",
    "\n",
    "\n",
    "# print (json.dumps(resp.json()['response'], indent=4, sort_keys=True, ensure_ascii=False))\n"
   ]
  },
  {
   "cell_type": "markdown",
   "metadata": {},
   "source": [
    "## Ищем записи по тегу life2film"
   ]
  },
  {
   "cell_type": "code",
   "execution_count": 92,
   "metadata": {
    "collapsed": false
   },
   "outputs": [],
   "source": [
    "query = 'life2film'\n",
    "access_token = ''\n",
    "\n",
    "resp = requests.get(vk_url+'newsfeed.search',\n",
    "                'q={0}&access_token={1}'.format(query, access_token))\n",
    "result = resp.json()['response']\n",
    "# print (json.dumps(result, indent=4, sort_keys=True, ensure_ascii=False))\n"
   ]
  },
  {
   "cell_type": "markdown",
   "metadata": {},
   "source": [
    "## Все записи найденные по тегу\n"
   ]
  },
  {
   "cell_type": "code",
   "execution_count": 93,
   "metadata": {
    "collapsed": false
   },
   "outputs": [
    {
     "name": "stdout",
     "output_type": "stream",
     "text": [
      "-96262301 331\n",
      "354188708 215\n",
      "-77765978 928\n",
      "-33384610 3750\n",
      "159646720 47\n",
      "4127686 15940\n",
      "-77765978 926\n",
      "5929315 6815\n",
      "2001534 2523\n",
      "310171593 1083\n",
      "289361952 1325\n",
      "-77765978 920\n",
      "-77765978 915\n",
      "-77765978 914\n",
      "-77765978 911\n",
      "-77765978 909\n",
      "-77765978 900\n",
      "-77765978 897\n",
      "-77765978 896\n",
      "-77765978 895\n",
      "-77765978 894\n",
      "-77765978 891\n",
      "-77765978 890\n",
      "-77765978 885\n",
      "280812237 3180\n",
      "127680088 9235\n",
      "-47462424 1602\n",
      "89976466 1789\n",
      "-77765978 872\n",
      "110587423 1363\n"
     ]
    }
   ],
   "source": [
    "del result[0]\n",
    "for row in result:\n",
    "    owner_id=str(row['owner_id'])\n",
    "    post_id=str(row['id'])\n",
    "    print owner_id,post_id\n",
    "#     print (json.dumps(row['text'], indent=4, sort_keys=True, ensure_ascii=False))\n"
   ]
  },
  {
   "cell_type": "code",
   "execution_count": 73,
   "metadata": {
    "collapsed": false
   },
   "outputs": [
    {
     "name": "stdout",
     "output_type": "stream",
     "text": [
      "{\n",
      "    \"attachment\": {\n",
      "        \"link\": {\n",
      "            \"description\": \"Мой фильм автоматически смонтирован в сервисе #LIFEFILM\", \n",
      "            \"image_big\": \"http://cs630726.vk.me/v630726708/3b6f0/BhnBlhtClHA.jpg\", \n",
      "            \"image_src\": \"http://cs630726.vk.me/v630726708/3b6ee/5W2yjp_l_EY.jpg\", \n",
      "            \"title\": \"Конкурс 15.07.2016 | Артём Босяк - #LIFEFILM\", \n",
      "            \"url\": \"https://life2film.com/f/baaafthu?lang=ru\"\n",
      "        }, \n",
      "        \"type\": \"link\"\n",
      "    }, \n",
      "    \"attachments\": [\n",
      "        {\n",
      "            \"link\": {\n",
      "                \"description\": \"Мой фильм автоматически смонтирован в сервисе #LIFEFILM\", \n",
      "                \"image_big\": \"http://cs630726.vk.me/v630726708/3b6f0/BhnBlhtClHA.jpg\", \n",
      "                \"image_src\": \"http://cs630726.vk.me/v630726708/3b6ee/5W2yjp_l_EY.jpg\", \n",
      "                \"title\": \"Конкурс 15.07.2016 | Артём Босяк - #LIFEFILM\", \n",
      "                \"url\": \"https://life2film.com/f/baaafthu?lang=ru\"\n",
      "            }, \n",
      "            \"type\": \"link\"\n",
      "        }\n",
      "    ], \n",
      "    \"comments\": {\n",
      "        \"count\": 8\n",
      "    }, \n",
      "    \"date\": 1468589418, \n",
      "    \"from_id\": 354188708, \n",
      "    \"id\": 215, \n",
      "    \"likes\": {\n",
      "        \"count\": 8\n",
      "    }, \n",
      "    \"owner_id\": 354188708, \n",
      "    \"post_type\": \"post\", \n",
      "    \"reposts\": {\n",
      "        \"count\": 0\n",
      "    }, \n",
      "    \"text\": \"И так ребятки итоги конкурса<br>🏆 1 место — достается Жене Горбенко https://vk.com/id12551974<br>🏆 2 место — получает Анатолий Гошовский https://vk.com/id8722453<br>🏆 3 место — Алексей Харкевич https://vk.com/id40812689<br>Мы решили еще разыграть 4 место маленький презент это карандаш BMW и достался он Евгению Малику https://vk.com/id6738107<br><br>Спасибо всем за участие , всех благ! <br><br>P.S. скоро будут конкурсы поинтересней , участвуйте ! Видео заливается)https://life2film.com/f/baaafthu?lang=ru\"\n",
      "}\n"
     ]
    }
   ],
   "source": [
    "print (json.dumps(result[1], indent=4, sort_keys=True, ensure_ascii=False))"
   ]
  },
  {
   "cell_type": "code",
   "execution_count": 136,
   "metadata": {
    "collapsed": false
   },
   "outputs": [
    {
     "name": "stdout",
     "output_type": "stream",
     "text": [
      "-77765978_943\n",
      "{\n",
      "    \"groups\": [\n",
      "        {\n",
      "            \"gid\": 77765978, \n",
      "            \"is_closed\": 0, \n",
      "            \"name\": \"LIFE.FILM - Онлайн Видеоредактор\", \n",
      "            \"photo\": \"http://cs622324.vk.me/v622324550/42bf/OG32w88LacU.jpg\", \n",
      "            \"photo_big\": \"http://cs622324.vk.me/v622324550/42bd/foCY7wrg5Tc.jpg\", \n",
      "            \"photo_medium\": \"http://cs622324.vk.me/v622324550/42be/Jo43Hm4_8RA.jpg\", \n",
      "            \"screen_name\": \"life2film\", \n",
      "            \"type\": \"page\"\n",
      "        }\n",
      "    ], \n",
      "    \"profiles\": [], \n",
      "    \"wall\": [\n",
      "        {\n",
      "            \"attachment\": {\n",
      "                \"link\": {\n",
      "                    \"description\": \"\", \n",
      "                    \"image_src\": \"http://cs631628.vk.me/v631628550/38aa2/JDJfftoTPNs.jpg\", \n",
      "                    \"title\": \"Hackathon\", \n",
      "                    \"url\": \"http://hackathon.muzis.ru/\"\n",
      "                }, \n",
      "                \"type\": \"link\"\n",
      "            }, \n",
      "            \"attachments\": [\n",
      "                {\n",
      "                    \"link\": {\n",
      "                        \"description\": \"\", \n",
      "                        \"image_src\": \"http://cs631628.vk.me/v631628550/38aa2/JDJfftoTPNs.jpg\", \n",
      "                        \"title\": \"Hackathon\", \n",
      "                        \"url\": \"http://hackathon.muzis.ru/\"\n",
      "                    }, \n",
      "                    \"type\": \"link\"\n",
      "                }\n",
      "            ], \n",
      "            \"comments\": {\n",
      "                \"count\": 2\n",
      "            }, \n",
      "            \"date\": 1469923370, \n",
      "            \"from_id\": -77765978, \n",
      "            \"id\": 943, \n",
      "            \"likes\": {\n",
      "                \"count\": 1\n",
      "            }, \n",
      "            \"post_type\": \"post\", \n",
      "            \"reposts\": {\n",
      "                \"count\": 0\n",
      "            }, \n",
      "            \"text\": \"Привет, участникам хакатона. Как проходит работа на проектами?<br>Присылайте ваше короткое видео. Мы сделаем для вас ролик на память)<br>[Прикрепляйте в комментарии ролики длиной 2-20 сек]<br>#life2film #muzis #oneday<br>http://hackathon.muzis.ru/\", \n",
      "            \"to_id\": -77765978\n",
      "        }\n",
      "    ]\n",
      "}\n"
     ]
    }
   ],
   "source": [
    "wall_id = owner_id+'_'+post_id\n",
    "wall_id ='-77765978_943'\n",
    "print wall_id\n",
    "resp = requests.get(vk_url+'wall.getById',\n",
    "                'posts={0}&extended=1&access_token={1}'.format(wall_id,access_token))\n",
    "result = resp.json()['response']\n",
    "print (json.dumps(result, indent=4, sort_keys=True, ensure_ascii=False))"
   ]
  },
  {
   "cell_type": "markdown",
   "metadata": {},
   "source": [
    "## Получаем все комментарии к записи из сообщества"
   ]
  },
  {
   "cell_type": "code",
   "execution_count": 96,
   "metadata": {
    "collapsed": false
   },
   "outputs": [
    {
     "name": "stdout",
     "output_type": "stream",
     "text": [
      "<Response [200]>\n",
      "{u'error': {u'error_code': 212, u'error_msg': u'Access to post comments denied', u'request_params': [{u'value': u'1', u'key': u'oauth'}, {u'value': u'wall.getComments', u'key': u'method'}, {u'value': u'37525550', u'key': u'owner_id'}, {u'value': u'5191', u'key': u'post_id'}]}}\n"
     ]
    },
    {
     "ename": "KeyError",
     "evalue": "'response'",
     "output_type": "error",
     "traceback": [
      "\u001b[1;31m---------------------------------------------------------------------------\u001b[0m",
      "\u001b[1;31mKeyError\u001b[0m                                  Traceback (most recent call last)",
      "\u001b[1;32m<ipython-input-96-7a3be020ec66>\u001b[0m in \u001b[0;36m<module>\u001b[1;34m()\u001b[0m\n\u001b[0;32m      7\u001b[0m \u001b[1;32mprint\u001b[0m \u001b[0mresp\u001b[0m\u001b[1;33m\u001b[0m\u001b[0m\n\u001b[0;32m      8\u001b[0m \u001b[1;32mprint\u001b[0m \u001b[0mresp\u001b[0m\u001b[1;33m.\u001b[0m\u001b[0mjson\u001b[0m\u001b[1;33m(\u001b[0m\u001b[1;33m)\u001b[0m\u001b[1;33m\u001b[0m\u001b[0m\n\u001b[1;32m----> 9\u001b[1;33m \u001b[0mresult\u001b[0m \u001b[1;33m=\u001b[0m \u001b[0mresp\u001b[0m\u001b[1;33m.\u001b[0m\u001b[0mjson\u001b[0m\u001b[1;33m(\u001b[0m\u001b[1;33m)\u001b[0m\u001b[1;33m[\u001b[0m\u001b[1;34m'response'\u001b[0m\u001b[1;33m]\u001b[0m\u001b[1;33m\u001b[0m\u001b[0m\n\u001b[0m\u001b[0;32m     10\u001b[0m \u001b[1;32mprint\u001b[0m \u001b[1;33m(\u001b[0m\u001b[0mjson\u001b[0m\u001b[1;33m.\u001b[0m\u001b[0mdumps\u001b[0m\u001b[1;33m(\u001b[0m\u001b[0mresult\u001b[0m\u001b[1;33m,\u001b[0m \u001b[0mindent\u001b[0m\u001b[1;33m=\u001b[0m\u001b[1;36m4\u001b[0m\u001b[1;33m,\u001b[0m \u001b[0msort_keys\u001b[0m\u001b[1;33m=\u001b[0m\u001b[0mTrue\u001b[0m\u001b[1;33m,\u001b[0m \u001b[0mensure_ascii\u001b[0m\u001b[1;33m=\u001b[0m\u001b[0mFalse\u001b[0m\u001b[1;33m)\u001b[0m\u001b[1;33m)\u001b[0m\u001b[1;33m\u001b[0m\u001b[0m\n",
      "\u001b[1;31mKeyError\u001b[0m: 'response'"
     ]
    }
   ],
   "source": [
    "owner_id='37525550'\n",
    "post_id='5191'\n",
    "\n",
    "resp = requests.get(vk_url+'wall.getComments',\n",
    "                'owner_id={0}&post_id={1}&access_token={2}'.format(owner_id,post_id,access_token))\n",
    "\n",
    "print resp\n",
    "print resp.json()\n",
    "result = resp.json()['response']\n",
    "print (json.dumps(result, indent=4, sort_keys=True, ensure_ascii=False))"
   ]
  },
  {
   "cell_type": "markdown",
   "metadata": {},
   "source": [
    "** Ошибка авторизации, если запись из не сообщества... надо решить"
   ]
  },
  {
   "cell_type": "code",
   "execution_count": 140,
   "metadata": {
    "collapsed": false
   },
   "outputs": [
    {
     "name": "stdout",
     "output_type": "stream",
     "text": [
      "<Response [200]>\n",
      "{u'response': [4, {u'date': 1469947884, u'text': u'https://vk.com/video-38203920_456239022', u'from_id': 37525550, u'uid': 37525550, u'cid': 944}, {u'date': 1469947917, u'text': u'https://vk.com/audio2000393164_456239738', u'from_id': -77765978, u'uid': 101, u'cid': 945}, {u'date': 1469950740, u'text': u'\\u041a\\u0430\\u043a \\u0434\\u0435\\u043b\\u0430?', u'from_id': -77765978, u'uid': 101, u'cid': 946}, {u'date': 1469950741, u'text': u'\\u041a\\u0430\\u043a \\u0434\\u0435\\u043b\\u0430?', u'from_id': -77765978, u'uid': 101, u'cid': 947}]}\n",
      "[\n",
      "    4, \n",
      "    {\n",
      "        \"cid\": 944, \n",
      "        \"date\": 1469947884, \n",
      "        \"from_id\": 37525550, \n",
      "        \"text\": \"https://vk.com/video-38203920_456239022\", \n",
      "        \"uid\": 37525550\n",
      "    }, \n",
      "    {\n",
      "        \"cid\": 945, \n",
      "        \"date\": 1469947917, \n",
      "        \"from_id\": -77765978, \n",
      "        \"text\": \"https://vk.com/audio2000393164_456239738\", \n",
      "        \"uid\": 101\n",
      "    }, \n",
      "    {\n",
      "        \"cid\": 946, \n",
      "        \"date\": 1469950740, \n",
      "        \"from_id\": -77765978, \n",
      "        \"text\": \"Как дела?\", \n",
      "        \"uid\": 101\n",
      "    }, \n",
      "    {\n",
      "        \"cid\": 947, \n",
      "        \"date\": 1469950741, \n",
      "        \"from_id\": -77765978, \n",
      "        \"text\": \"Как дела?\", \n",
      "        \"uid\": 101\n",
      "    }\n",
      "]\n"
     ]
    }
   ],
   "source": [
    "owner_id='-77765978'\n",
    "post_id='943'\n",
    "\n",
    "resp = requests.get(vk_url+'wall.getComments',\n",
    "                'owner_id={0}&post_id={1}&access_token={2}'.format(owner_id,post_id,access_token))\n",
    "\n",
    "print resp\n",
    "print resp.json()\n",
    "result = resp.json()['response']\n",
    "print (json.dumps(result, indent=4, sort_keys=True, ensure_ascii=False))"
   ]
  },
  {
   "cell_type": "markdown",
   "metadata": {},
   "source": [
    "## Получаем инфу по ролику для скачки"
   ]
  },
  {
   "cell_type": "code",
   "execution_count": null,
   "metadata": {
    "collapsed": false
   },
   "outputs": [],
   "source": [
    "videos='-77765978_456239119'\n",
    "\n",
    "resp = requests.get(vk_url+'video.get',\n",
    "                'videos={0}&access_token={1}'.format(videos,access_token))\n",
    "\n",
    "print resp\n",
    "# print resp.json()\n",
    "result = resp.json()['response']\n",
    "print (json.dumps(result, indent=4, sort_keys=True, ensure_ascii=False))"
   ]
  },
  {
   "cell_type": "markdown",
   "metadata": {
    "collapsed": true
   },
   "source": [
    "# Оставляем коммент под записью"
   ]
  },
  {
   "cell_type": "code",
   "execution_count": 150,
   "metadata": {
    "collapsed": false
   },
   "outputs": [
    {
     "name": "stdout",
     "output_type": "stream",
     "text": [
      "{\n",
      "    \"error\": {\n",
      "        \"error_code\": 15, \n",
      "        \"error_msg\": \"Access denied: no access to call this method\", \n",
      "        \"request_params\": [\n",
      "            {\n",
      "                \"key\": \"oauth\", \n",
      "                \"value\": \"1\"\n",
      "            }, \n",
      "            {\n",
      "                \"key\": \"method\", \n",
      "                \"value\": \"wall.createComment\"\n",
      "            }, \n",
      "            {\n",
      "                \"key\": \"owner_id\", \n",
      "                \"value\": \"-77765978\"\n",
      "            }, \n",
      "            {\n",
      "                \"key\": \"post_id\", \n",
      "                \"value\": \"943\"\n",
      "            }, \n",
      "            {\n",
      "                \"key\": \"message\", \n",
      "                \"value\": \"Видео готово \"\n",
      "            }, \n",
      "            {\n",
      "                \"key\": \"from_group\", \n",
      "                \"value\": \"1\"\n",
      "            }\n",
      "        ]\n",
      "    }\n",
      "}\n"
     ]
    }
   ],
   "source": [
    "owner_id='-77765978'\n",
    "post_id='943'\n",
    "message = 'Видео готово '\n",
    "\n",
    "access_token = '9a3e3c2ba80a29dd4588685a6d6f2b729674c01e34f67ed13e5ad36e39618ce82a77089f025621447bd13'\n",
    "\n",
    "resp = requests.get(vk_url+'wall.createComment',\n",
    "                'owner_id={}&post_id={}&message={}&from_group=1&access_token={}'.format(owner_id,post_id,message,access_token))\n",
    "\n",
    "print (json.dumps(resp.json(), indent=4, sort_keys=True, ensure_ascii=False))"
   ]
  },
  {
   "cell_type": "code",
   "execution_count": null,
   "metadata": {
    "collapsed": true
   },
   "outputs": [],
   "source": []
  }
 ],
 "metadata": {
  "kernelspec": {
   "display_name": "Python [Root]",
   "language": "python",
   "name": "Python [Root]"
  },
  "language_info": {
   "codemirror_mode": {
    "name": "ipython",
    "version": 2
   },
   "file_extension": ".py",
   "mimetype": "text/x-python",
   "name": "python",
   "nbconvert_exporter": "python",
   "pygments_lexer": "ipython2",
   "version": "2.7.12"
  }
 },
 "nbformat": 4,
 "nbformat_minor": 0
}
