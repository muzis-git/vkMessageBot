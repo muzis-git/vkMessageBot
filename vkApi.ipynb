{
 "cells": [
  {
   "cell_type": "code",
   "execution_count": 20,
   "metadata": {
    "collapsed": true
   },
   "outputs": [],
   "source": [
    "import requests\n",
    "import json"
   ]
  },
  {
   "cell_type": "markdown",
   "metadata": {},
   "source": [
    "#VK test"
   ]
  },
  {
   "cell_type": "code",
   "execution_count": 22,
   "metadata": {
    "collapsed": false
   },
   "outputs": [],
   "source": [
    "vk_url=\"https://api.vkontakte.ru/method/\"\n",
    "uid='53129957'\n",
    "\n",
    "resp = requests.post(vk_url+'friends.get',\n",
    "                'user_id=%s&fields=uid,first_name,last_name,photo' % uid)\n",
    "\n",
    "\n",
    "# print (json.dumps(resp.json()['response'], indent=4, sort_keys=True, ensure_ascii=False))\n"
   ]
  },
  {
   "cell_type": "code",
   "execution_count": 67,
   "metadata": {
    "collapsed": false
   },
   "outputs": [],
   "source": [
    "query = 'life2film'\n",
    "access_token = ''\n",
    "\n",
    "resp = requests.get(vk_url+'newsfeed.search',\n",
    "                'q={0}&access_token={1}'.format(query, access_token))\n",
    "result = resp.json()['response']\n",
    "# print (json.dumps(result, indent=4, sort_keys=True, ensure_ascii=False))\n"
   ]
  },
  {
   "cell_type": "code",
   "execution_count": 68,
   "metadata": {
    "collapsed": false
   },
   "outputs": [
    {
     "name": "stdout",
     "output_type": "stream",
     "text": [
      "-96262301 331\n",
      "354188708 215\n",
      "-77765978 928\n",
      "-33384610 3750\n",
      "159646720 47\n",
      "4127686 15940\n",
      "-77765978 926\n",
      "5929315 6815\n",
      "2001534 2523\n",
      "310171593 1083\n",
      "289361952 1325\n",
      "-77765978 920\n",
      "-77765978 915\n",
      "-77765978 914\n",
      "-77765978 911\n",
      "-77765978 909\n",
      "-77765978 900\n",
      "-77765978 897\n",
      "-77765978 896\n",
      "-77765978 895\n",
      "-77765978 894\n",
      "-77765978 891\n",
      "-77765978 890\n",
      "-77765978 885\n",
      "280812237 3180\n",
      "127680088 9235\n",
      "-47462424 1602\n",
      "89976466 1789\n",
      "-77765978 872\n",
      "110587423 1363\n"
     ]
    }
   ],
   "source": [
    "del result[0]\n",
    "for row in result:\n",
    "    owner_id=str(row['owner_id'])\n",
    "    post_id=str(row['id'])\n",
    "    print owner_id,post_id\n",
    "#     print (json.dumps(row['text'], indent=4, sort_keys=True, ensure_ascii=False))\n"
   ]
  },
  {
   "cell_type": "code",
   "execution_count": 73,
   "metadata": {
    "collapsed": false
   },
   "outputs": [
    {
     "name": "stdout",
     "output_type": "stream",
     "text": [
      "{\n",
      "    \"attachment\": {\n",
      "        \"link\": {\n",
      "            \"description\": \"Мой фильм автоматически смонтирован в сервисе #LIFEFILM\", \n",
      "            \"image_big\": \"http://cs630726.vk.me/v630726708/3b6f0/BhnBlhtClHA.jpg\", \n",
      "            \"image_src\": \"http://cs630726.vk.me/v630726708/3b6ee/5W2yjp_l_EY.jpg\", \n",
      "            \"title\": \"Конкурс 15.07.2016 | Артём Босяк - #LIFEFILM\", \n",
      "            \"url\": \"https://life2film.com/f/baaafthu?lang=ru\"\n",
      "        }, \n",
      "        \"type\": \"link\"\n",
      "    }, \n",
      "    \"attachments\": [\n",
      "        {\n",
      "            \"link\": {\n",
      "                \"description\": \"Мой фильм автоматически смонтирован в сервисе #LIFEFILM\", \n",
      "                \"image_big\": \"http://cs630726.vk.me/v630726708/3b6f0/BhnBlhtClHA.jpg\", \n",
      "                \"image_src\": \"http://cs630726.vk.me/v630726708/3b6ee/5W2yjp_l_EY.jpg\", \n",
      "                \"title\": \"Конкурс 15.07.2016 | Артём Босяк - #LIFEFILM\", \n",
      "                \"url\": \"https://life2film.com/f/baaafthu?lang=ru\"\n",
      "            }, \n",
      "            \"type\": \"link\"\n",
      "        }\n",
      "    ], \n",
      "    \"comments\": {\n",
      "        \"count\": 8\n",
      "    }, \n",
      "    \"date\": 1468589418, \n",
      "    \"from_id\": 354188708, \n",
      "    \"id\": 215, \n",
      "    \"likes\": {\n",
      "        \"count\": 8\n",
      "    }, \n",
      "    \"owner_id\": 354188708, \n",
      "    \"post_type\": \"post\", \n",
      "    \"reposts\": {\n",
      "        \"count\": 0\n",
      "    }, \n",
      "    \"text\": \"И так ребятки итоги конкурса<br>🏆 1 место — достается Жене Горбенко https://vk.com/id12551974<br>🏆 2 место — получает Анатолий Гошовский https://vk.com/id8722453<br>🏆 3 место — Алексей Харкевич https://vk.com/id40812689<br>Мы решили еще разыграть 4 место маленький презент это карандаш BMW и достался он Евгению Малику https://vk.com/id6738107<br><br>Спасибо всем за участие , всех благ! <br><br>P.S. скоро будут конкурсы поинтересней , участвуйте ! Видео заливается)https://life2film.com/f/baaafthu?lang=ru\"\n",
      "}\n"
     ]
    }
   ],
   "source": [
    "print (json.dumps(result[1], indent=4, sort_keys=True, ensure_ascii=False))"
   ]
  },
  {
   "cell_type": "code",
   "execution_count": 74,
   "metadata": {
    "collapsed": false
   },
   "outputs": [
    {
     "name": "stdout",
     "output_type": "stream",
     "text": [
      "-77765978_909\n",
      "{\n",
      "    \"groups\": [\n",
      "        {\n",
      "            \"gid\": 77765978, \n",
      "            \"is_closed\": 0, \n",
      "            \"name\": \"LIFE.FILM - Онлайн Видеоредактор\", \n",
      "            \"photo\": \"http://cs622324.vk.me/v622324550/42bf/OG32w88LacU.jpg\", \n",
      "            \"photo_big\": \"http://cs622324.vk.me/v622324550/42bd/foCY7wrg5Tc.jpg\", \n",
      "            \"photo_medium\": \"http://cs622324.vk.me/v622324550/42be/Jo43Hm4_8RA.jpg\", \n",
      "            \"screen_name\": \"life2film\", \n",
      "            \"type\": \"page\"\n",
      "        }\n",
      "    ], \n",
      "    \"profiles\": [\n",
      "        {\n",
      "            \"first_name\": \"Коляныч\", \n",
      "            \"last_name\": \"Шелковников\", \n",
      "            \"online\": 0, \n",
      "            \"photo\": \"http://cs626822.vk.me/v626822303/1cb00/qxboC9mqcpQ.jpg\", \n",
      "            \"photo_medium_rec\": \"http://cs626822.vk.me/v626822303/1caff/cVh_Kv5hoZg.jpg\", \n",
      "            \"screen_name\": \"id297574303\", \n",
      "            \"sex\": 2, \n",
      "            \"uid\": 297574303\n",
      "        }\n",
      "    ], \n",
      "    \"wall\": [\n",
      "        {\n",
      "            \"attachment\": {\n",
      "                \"link\": {\n",
      "                    \"description\": \"Мой фильм автоматически смонтирован в сервисе #LIFEFILM\", \n",
      "                    \"image_big\": \"http://cs631116.vk.me/v631116303/2420/hEeKE0LFxcg.jpg\", \n",
      "                    \"image_src\": \"http://cs631116.vk.me/v631116303/241e/2igxxrXFAR4.jpg\", \n",
      "                    \"title\": \"просто репетиция) | Коляныч Шелковников - #LIFEFILM\", \n",
      "                    \"url\": \"http://life2film.com/f/baaab794\"\n",
      "                }, \n",
      "                \"type\": \"link\"\n",
      "            }, \n",
      "            \"attachments\": [\n",
      "                {\n",
      "                    \"link\": {\n",
      "                        \"description\": \"Мой фильм автоматически смонтирован в сервисе #LIFEFILM\", \n",
      "                        \"image_big\": \"http://cs631116.vk.me/v631116303/2420/hEeKE0LFxcg.jpg\", \n",
      "                        \"image_src\": \"http://cs631116.vk.me/v631116303/241e/2igxxrXFAR4.jpg\", \n",
      "                        \"title\": \"просто репетиция) | Коляныч Шелковников - #LIFEFILM\", \n",
      "                        \"url\": \"http://life2film.com/f/baaab794\"\n",
      "                    }, \n",
      "                    \"type\": \"link\"\n",
      "                }\n",
      "            ], \n",
      "            \"can_delete\": 1, \n",
      "            \"can_pin\": 1, \n",
      "            \"comments\": {\n",
      "                \"count\": 1\n",
      "            }, \n",
      "            \"date\": 1466053813, \n",
      "            \"from_id\": -77765978, \n",
      "            \"id\": 909, \n",
      "            \"likes\": {\n",
      "                \"count\": 0\n",
      "            }, \n",
      "            \"marked_as_ads\": 0, \n",
      "            \"post_type\": \"post\", \n",
      "            \"reposts\": {\n",
      "                \"count\": 0\n",
      "            }, \n",
      "            \"signer_id\": 297574303, \n",
      "            \"text\": \"#life2film <br><br>http://life2film.com/f/baaab794\", \n",
      "            \"to_id\": -77765978\n",
      "        }\n",
      "    ]\n",
      "}\n"
     ]
    }
   ],
   "source": [
    "wall_id = owner_id+'_'+post_id\n",
    "wall_id ='37525550_5191'\n",
    "print wall_id\n",
    "resp = requests.get(vk_url+'wall.getById',\n",
    "                'posts={0}&extended=1&access_token={1}'.format(wall_id,access_token))\n",
    "result = resp.json()['response']\n",
    "print (json.dumps(result, indent=4, sort_keys=True, ensure_ascii=False))"
   ]
  },
  {
   "cell_type": "code",
   "execution_count": 77,
   "metadata": {
    "collapsed": false
   },
   "outputs": [
    {
     "name": "stdout",
     "output_type": "stream",
     "text": [
      "<Response [200]>\n",
      "{u'response': [2, {u'date': 1466111141, u'text': u'\\u0412\\u0441\\u0435\\u0433\\u0434\\u0430 \\u0445\\u043e\\u0442\\u0435\\u043b\\u0430 \\u043f\\u043e\\u0441\\u043c\\u043e\\u0442\\u0440\\u0435\\u0442\\u044c \\u043d\\u0430 \\u0440\\u0435\\u043f\\u0435\\u0442\\u0438\\u0446\\u0438\\u0438 \\u0438\\u0437\\u043d\\u0443\\u0442\\u0440\\u0438)))). \\u0421\\u043f\\u0430\\u0441\\u0438\\u0431\\u043e \\u043e\\u0433\\u0440\\u043e\\u043c\\u043d\\u043e\\u0435 , \\u043f\\u043e\\u0441\\u043c\\u043e\\u0442\\u0440\\u0435\\u043b\\u0430))) \\u0432\\u0441\\u0435 \\u043f\\u0440\\u0438\\u043c\\u0435\\u0440\\u043d\\u043e \\u043a\\u0430\\u043a \\u044f \\u0438 \\u043f\\u0440\\u0435\\u0434\\u0441\\u0442\\u0430\\u0432\\u043b\\u044f\\u043b\\u0430)))))', u'from_id': 369680187, u'uid': 369680187, u'cid': 918}, {u'date': 1469889630, u'text': u'\\u043f\\u0440\\u0438\\u043a\\u043e\\u043b\\u044c\\u043d\\u043e\\u0435 \\u0432\\u0438\\u0434\\u0435\\u043e https://vk.com/video-77765978_456239119', u'from_id': 37525550, u'uid': 37525550, u'cid': 934}]}\n",
      "[\n",
      "    2, \n",
      "    {\n",
      "        \"cid\": 918, \n",
      "        \"date\": 1466111141, \n",
      "        \"from_id\": 369680187, \n",
      "        \"text\": \"Всегда хотела посмотреть на репетиции изнутри)))). Спасибо огромное , посмотрела))) все примерно как я и представляла)))))\", \n",
      "        \"uid\": 369680187\n",
      "    }, \n",
      "    {\n",
      "        \"cid\": 934, \n",
      "        \"date\": 1469889630, \n",
      "        \"from_id\": 37525550, \n",
      "        \"text\": \"прикольное видео https://vk.com/video-77765978_456239119\", \n",
      "        \"uid\": 37525550\n",
      "    }\n",
      "]\n"
     ]
    }
   ],
   "source": [
    "owner_id='37525550'\n",
    "post_id='5191'\n",
    "owner_id='-77765978'\n",
    "post_id='909'\n",
    "\n",
    "resp = requests.get(vk_url+'wall.getComments',\n",
    "                'owner_id={0}&post_id={1}&access_token={2}'.format(owner_id,post_id,access_token))\n",
    "\n",
    "print resp\n",
    "print resp.json()\n",
    "result = resp.json()['response']\n",
    "print (json.dumps(result, indent=4, sort_keys=True, ensure_ascii=False))"
   ]
  },
  {
   "cell_type": "markdown",
   "metadata": {},
   "source": [
    "#Получаем инфу по ролику для скачки"
   ]
  },
  {
   "cell_type": "code",
   "execution_count": 87,
   "metadata": {
    "collapsed": false
   },
   "outputs": [
    {
     "name": "stdout",
     "output_type": "stream",
     "text": [
      "<Response [200]>\n",
      "[\n",
      "    1, \n",
      "    {\n",
      "        \"comments\": 0, \n",
      "        \"date\": 1469540050, \n",
      "        \"description\": \"Фильм создан в видеоредакторе LIFE2FILM. <br>Это просто! Попробуй создать и ты https://vk.com/app5459328<br>        <br>Автор ролика: https://vk.com/id1975770<br>Музыка: Ант (Отрицательное Влияние, 25 - Я Никогда Не Видел Моря<br>#life2film\", \n",
      "        \"duration\": 21, \n",
      "        \"files\": {\n",
      "            \"mp4_240\": \"https://cs510503.vk.me/4/u37525550/videos/93027d39b6.240.mp4?extra=VI3-QxL0dq6qvce8O3L_UPL68bGwQihUNCL6gPRBhtGaavUZ2E6pw98kl0nYIzZ0UNdyf_84c5pjAaCx4UuV6Wxe4XI5HUWoxEPFmWuyfYxdJsW8apGZ-q-d-XUbVc9q5m0S0faGEmCh4A\", \n",
      "            \"mp4_360\": \"https://cs510503.vk.me/4/u37525550/videos/93027d39b6.360.mp4?extra=VI3-QxL0dq6qvce8O3L_UPL68bGwQihUNCL6gPRBhtGaavUZ2E6pw98kl0nYIzZ0UNdyf_84c5pjAaCx4UuV6Wxe4XI5HUWoxEPFmWuyfYxdJsW8apGZ-q-d-XUbVc9q5m0S0faGEmCh4A\"\n",
      "        }, \n",
      "        \"image\": \"http://cs631628.vk.me/v631628978/42ad5/dxf5nHWWAVE.jpg\", \n",
      "        \"image_medium\": \"http://cs631628.vk.me/v631628978/42ad4/a_RQXEXFx3k.jpg\", \n",
      "        \"link\": \"video-77765978_456239119\", \n",
      "        \"owner_id\": -77765978, \n",
      "        \"player\": \"https://vk.com/video_ext.php?oid=-77765978&id=456239119&hash=7ca6c18d09ed9857\", \n",
      "        \"title\": \"1\", \n",
      "        \"vid\": 456239119, \n",
      "        \"views\": 4\n",
      "    }\n",
      "]\n"
     ]
    }
   ],
   "source": [
    "videos='-77765978_456239119'\n",
    "\n",
    "resp = requests.get(vk_url+'video.get',\n",
    "                'videos={0}&access_token={1}'.format(videos,access_token))\n",
    "\n",
    "print resp\n",
    "# print resp.json()\n",
    "result = resp.json()['response']\n",
    "print (json.dumps(result, indent=4, sort_keys=True, ensure_ascii=False))"
   ]
  },
  {
   "cell_type": "code",
   "execution_count": null,
   "metadata": {
    "collapsed": true
   },
   "outputs": [],
   "source": []
  }
 ],
 "metadata": {
  "kernelspec": {
   "display_name": "Python [Root]",
   "language": "python",
   "name": "Python [Root]"
  },
  "language_info": {
   "codemirror_mode": {
    "name": "ipython",
    "version": 2
   },
   "file_extension": ".py",
   "mimetype": "text/x-python",
   "name": "python",
   "nbconvert_exporter": "python",
   "pygments_lexer": "ipython2",
   "version": "2.7.12"
  }
 },
 "nbformat": 4,
 "nbformat_minor": 0
}
